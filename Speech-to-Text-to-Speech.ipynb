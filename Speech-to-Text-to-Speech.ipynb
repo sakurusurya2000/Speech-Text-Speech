{
 "cells": [
  {
   "cell_type": "code",
   "execution_count": 1,
   "metadata": {},
   "outputs": [
    {
     "name": "stdout",
     "output_type": "stream",
     "text": [
      "Requirement already satisfied: speechrecognition in f:\\anaconda3\\lib\\site-packages (3.8.1)\n",
      "Note: you may need to restart the kernel to use updated packages.\n"
     ]
    }
   ],
   "source": [
    "pip install speechrecognition"
   ]
  },
  {
   "cell_type": "code",
   "execution_count": 2,
   "metadata": {},
   "outputs": [
    {
     "name": "stdout",
     "output_type": "stream",
     "text": [
      "Requirement already satisfied: pyttsx3 in f:\\anaconda3\\lib\\site-packages (2.90)\n",
      "Requirement already satisfied: comtypes; platform_system == \"Windows\" in f:\\anaconda3\\lib\\site-packages (from pyttsx3) (1.1.7)\n",
      "Requirement already satisfied: pywin32; platform_system == \"Windows\" in f:\\anaconda3\\lib\\site-packages (from pyttsx3) (227)\n",
      "Requirement already satisfied: pypiwin32; platform_system == \"Windows\" in f:\\anaconda3\\lib\\site-packages (from pyttsx3) (223)\n",
      "Note: you may need to restart the kernel to use updated packages.\n"
     ]
    }
   ],
   "source": [
    "pip install pyttsx3"
   ]
  },
  {
   "cell_type": "code",
   "execution_count": null,
   "metadata": {},
   "outputs": [
    {
     "name": "stdout",
     "output_type": "stream",
     "text": [
      "hello\n",
      "doing good\n",
      "shivani ke bad girl\n",
      "sherwani is a bad girl\n",
      "ok you are good\n",
      "your speech is brilliant\n",
      "great work\n",
      "you can do this much more\n",
      "one and you are doing it wrong\n",
      "unknown error occured\n",
      "unknown error occured\n",
      "unknown error occured\n",
      "unknown error occured\n",
      "amended\n"
     ]
    }
   ],
   "source": [
    "# Python program to translate \n",
    "# speech to text and text to speech \n",
    "\n",
    "\n",
    "import speech_recognition as sr \n",
    "import pyttsx3 \n",
    "\n",
    "# Initialize the recognizer \n",
    "r = sr.Recognizer() \n",
    "\n",
    "# Function to convert text to \n",
    "# speech \n",
    "def SpeakText(command): \n",
    "\n",
    "    # Initialize the engine \n",
    "    engine = pyttsx3.init() \n",
    "    engine.say(command) \n",
    "    engine.runAndWait() \n",
    "\n",
    "# Loop infinitely for user to \n",
    "# speak \n",
    "\n",
    "while(1):\n",
    "\n",
    "    # Exception handling to handle \n",
    "    # exceptions at the runtime \n",
    "    try: \n",
    "\n",
    "        # use the microphone as source for input. \n",
    "        with sr.Microphone() as source2: \n",
    "\n",
    "            # wait for a second to let the recognizer \n",
    "            # adjust the energy threshold based on \n",
    "            # the surrounding noise level \n",
    "            r.adjust_for_ambient_noise(source2, duration=0.2) \n",
    "\n",
    "            #listens for the user's input \n",
    "            audio2 = r.listen(source2) \n",
    "\n",
    "            # Using ggogle to recognize audio \n",
    "            MyText = r.recognize_google(audio2) \n",
    "            MyText = MyText.lower() \n",
    "\n",
    "            print(MyText) \n",
    "            SpeakText(MyText) \n",
    "\n",
    "    except sr.RequestError as e: \n",
    "        print(\"Could not request results; {0}\".format(e)) \n",
    "\n",
    "    except sr.UnknownValueError: \n",
    "        print(\"unknown error occured\") "
   ]
  },
  {
   "cell_type": "code",
   "execution_count": null,
   "metadata": {},
   "outputs": [],
   "source": []
  }
 ],
 "metadata": {
  "kernelspec": {
   "display_name": "Python 3",
   "language": "python",
   "name": "python3"
  },
  "language_info": {
   "codemirror_mode": {
    "name": "ipython",
    "version": 3
   },
   "file_extension": ".py",
   "mimetype": "text/x-python",
   "name": "python",
   "nbconvert_exporter": "python",
   "pygments_lexer": "ipython3",
   "version": "3.8.3"
  }
 },
 "nbformat": 4,
 "nbformat_minor": 4
}
